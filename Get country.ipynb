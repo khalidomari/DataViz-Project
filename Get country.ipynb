{
 "cells": [
  {
   "cell_type": "code",
   "execution_count": 1,
   "metadata": {
    "collapsed": true
   },
   "outputs": [],
   "source": [
    "from geopy.geocoders import Nominatim\n",
    "geolocator = Nominatim()"
   ]
  },
  {
   "cell_type": "code",
   "execution_count": 9,
   "metadata": {
    "collapsed": true
   },
   "outputs": [],
   "source": [
    "latitude = 52.509669\n",
    "longitude = 13.376294"
   ]
  },
  {
   "cell_type": "code",
   "execution_count": 42,
   "metadata": {
    "collapsed": true
   },
   "outputs": [],
   "source": [
    "def get_country(latitude, longitude):\n",
    "    location = geolocator.reverse(','.join([str(latitude), str(longitude)]))\n",
    "    address = location.address\n",
    "    return location\n",
    "    return address.split(', ')[-3]"
   ]
  },
  {
   "cell_type": "code",
   "execution_count": 20,
   "metadata": {},
   "outputs": [
    {
     "data": {
      "text/plain": [
       "'Deutschland'"
      ]
     },
     "execution_count": 20,
     "metadata": {},
     "output_type": "execute_result"
    }
   ],
   "source": [
    "get_country(latitude, longitude)"
   ]
  },
  {
   "cell_type": "code",
   "execution_count": 51,
   "metadata": {},
   "outputs": [],
   "source": [
    "pr = get_country(18.46617, -66.106654)"
   ]
  },
  {
   "cell_type": "code",
   "execution_count": 52,
   "metadata": {},
   "outputs": [
    {
     "data": {
      "text/plain": [
       "{'address': {'building': 'Anexo de La Cámara',\n",
       "  'city': 'San Juan Antiguo',\n",
       "  'country': 'United States of America',\n",
       "  'country_code': 'us',\n",
       "  'county': 'San Juan',\n",
       "  'neighbourhood': 'Puerta de Tierra',\n",
       "  'postcode': '00907',\n",
       "  'road': 'Avenida Constitución',\n",
       "  'state': 'Puerto Rico'},\n",
       " 'boundingbox': ['18.4664746', '18.4668649', '-66.1072339', '-66.1066705'],\n",
       " 'display_name': 'Anexo de La Cámara, Avenida Constitución, Puerta de Tierra, San Juan Antiguo, San Juan, Puerto Rico, 00907, United States of America',\n",
       " 'lat': '18.4666615',\n",
       " 'licence': 'Data © OpenStreetMap contributors, ODbL 1.0. http://www.openstreetmap.org/copyright',\n",
       " 'lon': '-66.1067996834034',\n",
       " 'osm_id': '5391069',\n",
       " 'osm_type': 'relation',\n",
       " 'place_id': '179848214'}"
      ]
     },
     "execution_count": 52,
     "metadata": {},
     "output_type": "execute_result"
    }
   ],
   "source": [
    "pr.raw"
   ]
  },
  {
   "cell_type": "code",
   "execution_count": 48,
   "metadata": {},
   "outputs": [],
   "source": [
    "sm = get_country(9.559226, 44.070191)"
   ]
  },
  {
   "cell_type": "code",
   "execution_count": 50,
   "metadata": {},
   "outputs": [
    {
     "data": {
      "text/plain": [
       "{'address': {'city': 'Hargeysa هرجيسا',\n",
       "  'country': 'Soomaaliya الصومال',\n",
       "  'country_code': 'so',\n",
       "  'county': 'Hargeysa هرجيسا',\n",
       "  'postcode': '00252',\n",
       "  'state': 'وقويي جالبيد Woqooyi Galbeed',\n",
       "  'suburb': 'Sheekh Madar'},\n",
       " 'boundingbox': ['9.559153', '9.559229', '44.070175', '44.0703189'],\n",
       " 'display_name': 'Sheekh Madar, Hargeysa هرجيسا, وقويي جالبيد Woqooyi Galbeed, جمهورية أرض الصومال Jamhuuriyadda Soomaaliland, 00252, Soomaaliya الصومال',\n",
       " 'lat': '9.559229',\n",
       " 'licence': 'Data © OpenStreetMap contributors, ODbL 1.0. http://www.openstreetmap.org/copyright',\n",
       " 'lon': '44.0703189',\n",
       " 'osm_id': '127273930',\n",
       " 'osm_type': 'way',\n",
       " 'place_id': '100638050'}"
      ]
     },
     "execution_count": 50,
     "metadata": {},
     "output_type": "execute_result"
    }
   ],
   "source": [
    "sm.raw"
   ]
  },
  {
   "cell_type": "code",
   "execution_count": 43,
   "metadata": {},
   "outputs": [],
   "source": [
    "ad = get_country(43.1839, -2.265466)"
   ]
  },
  {
   "cell_type": "code",
   "execution_count": 47,
   "metadata": {},
   "outputs": [
    {
     "data": {
      "text/plain": [
       "{'address': {'country': 'España',\n",
       "  'country_code': 'es',\n",
       "  'county': 'Gipuzkoa',\n",
       "  'house_number': '3',\n",
       "  'neighbourhood': 'Barrenetxe auzoa',\n",
       "  'pedestrian': 'Enparantza Nagusia',\n",
       "  'postcode': '20730',\n",
       "  'state': 'Euskadi',\n",
       "  'suburb': 'Urrestilla',\n",
       "  'town': 'Azpeitia'},\n",
       " 'boundingbox': ['43.1838208', '43.1840208', '-2.2655448', '-2.2653448'],\n",
       " 'display_name': '3, Enparantza Nagusia, Barrenetxe auzoa, Urrestilla, Azpeitia, Urola-Kostaldea / Urola Costa, Gipuzkoa, Euskadi, 20730, España',\n",
       " 'lat': '43.1839208',\n",
       " 'licence': 'Data © OpenStreetMap contributors, ODbL 1.0. http://www.openstreetmap.org/copyright',\n",
       " 'lon': '-2.2654448',\n",
       " 'osm_id': '620422713',\n",
       " 'osm_type': 'node',\n",
       " 'place_id': '6376372'}"
      ]
     },
     "execution_count": 47,
     "metadata": {},
     "output_type": "execute_result"
    }
   ],
   "source": [
    "ad.raw"
   ]
  }
 ],
 "metadata": {
  "kernelspec": {
   "display_name": "Python [conda root]",
   "language": "python",
   "name": "conda-root-py"
  },
  "language_info": {
   "codemirror_mode": {
    "name": "ipython",
    "version": 3
   },
   "file_extension": ".py",
   "mimetype": "text/x-python",
   "name": "python",
   "nbconvert_exporter": "python",
   "pygments_lexer": "ipython3",
   "version": "3.6.3"
  }
 },
 "nbformat": 4,
 "nbformat_minor": 2
}
